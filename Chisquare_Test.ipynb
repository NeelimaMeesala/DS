{
  "nbformat": 4,
  "nbformat_minor": 0,
  "metadata": {
    "colab": {
      "provenance": []
    },
    "kernelspec": {
      "name": "python3",
      "display_name": "Python 3"
    },
    "language_info": {
      "name": "python"
    }
  },
  "cells": [
    {
      "cell_type": "code",
      "execution_count": null,
      "metadata": {
        "id": "ue9ESaxMT9aB"
      },
      "outputs": [],
      "source": [
        "import numpy as np\n",
        "import pandas as pd"
      ]
    },
    {
      "cell_type": "code",
      "source": [
        "data=[\n",
        "      [50,70],\n",
        "      [80,100],\n",
        "      [60,90],\n",
        "      [30,50],\n",
        "      [20,50]\n",
        "]\n",
        "\n",
        "'''\n",
        "Satisfaction\tSmart Thermostat\tSmart Light\tTotal\n",
        "Very Satisfied\t50\t70\t120\n",
        "Satisfied\t80\t100\t180\n",
        "Neutral\t60\t90\t150\n",
        "Unsatisfied\t30\t50\t80\n",
        "Very Unsatisfied\t20\t50\t70\n",
        "Total\t240\t360\t600\n",
        "'''"
      ],
      "metadata": {
        "id": "fVjwwl_bUO23",
        "colab": {
          "base_uri": "https://localhost:8080/",
          "height": 53
        },
        "outputId": "71195bf1-3cfe-4ca9-c723-7ebb2a42de62"
      },
      "execution_count": null,
      "outputs": [
        {
          "output_type": "execute_result",
          "data": {
            "text/plain": [
              "'\\nSatisfaction\\tSmart Thermostat\\tSmart Light\\tTotal\\nVery Satisfied\\t50\\t70\\t120\\nSatisfied\\t80\\t100\\t180\\nNeutral\\t60\\t90\\t150\\nUnsatisfied\\t30\\t50\\t80\\nVery Unsatisfied\\t20\\t50\\t70\\nTotal\\t240\\t360\\t600\\n'"
            ],
            "application/vnd.google.colaboratory.intrinsic+json": {
              "type": "string"
            }
          },
          "metadata": {},
          "execution_count": 2
        }
      ]
    },
    {
      "cell_type": "code",
      "source": [
        "data"
      ],
      "metadata": {
        "colab": {
          "base_uri": "https://localhost:8080/"
        },
        "id": "83qUNXHtcnZO",
        "outputId": "bbec931a-2b29-49a9-eb71-c2cd817e9137"
      },
      "execution_count": null,
      "outputs": [
        {
          "output_type": "execute_result",
          "data": {
            "text/plain": [
              "[[50, 70], [80, 100], [60, 90], [30, 50], [20, 50]]"
            ]
          },
          "metadata": {},
          "execution_count": 4
        }
      ]
    },
    {
      "cell_type": "code",
      "source": [
        "# df=pd.DataFrame(data)\n",
        "# df"
      ],
      "metadata": {
        "id": "rESyQLSMcqJ_"
      },
      "execution_count": null,
      "outputs": []
    },
    {
      "cell_type": "code",
      "source": [
        "from scipy.stats import chi2_contingency"
      ],
      "metadata": {
        "id": "e3gtHz7NdLhH"
      },
      "execution_count": null,
      "outputs": []
    },
    {
      "cell_type": "code",
      "source": [
        "chi2_contingency(data)"
      ],
      "metadata": {
        "colab": {
          "base_uri": "https://localhost:8080/"
        },
        "id": "1rqeuo9SddsZ",
        "outputId": "1b7a5a63-472f-4b5b-ba07-7fa8b2804d0d"
      },
      "execution_count": null,
      "outputs": [
        {
          "output_type": "execute_result",
          "data": {
            "text/plain": [
              "Chi2ContingencyResult(statistic=5.638227513227513, pvalue=0.22784371130697179, dof=4, expected_freq=array([[ 48.,  72.],\n",
              "       [ 72., 108.],\n",
              "       [ 60.,  90.],\n",
              "       [ 32.,  48.],\n",
              "       [ 28.,  42.]]))"
            ]
          },
          "metadata": {},
          "execution_count": 6
        }
      ]
    },
    {
      "cell_type": "code",
      "source": [
        "calc_stat,p_value,dof,expected=chi2_contingency(data)"
      ],
      "metadata": {
        "id": "1l4oggnPdzSM"
      },
      "execution_count": null,
      "outputs": []
    },
    {
      "cell_type": "code",
      "source": [
        "alpha=0.05\n",
        "if p_value<=alpha:\n",
        "  print('Reject Null')\n",
        "else:\n",
        "  print('Accept Null')"
      ],
      "metadata": {
        "colab": {
          "base_uri": "https://localhost:8080/"
        },
        "id": "JLY3ugfed_iu",
        "outputId": "4423be56-75df-415b-e091-d76d9fda7f96"
      },
      "execution_count": null,
      "outputs": [
        {
          "output_type": "stream",
          "name": "stdout",
          "text": [
            "Accept Null\n"
          ]
        }
      ]
    },
    {
      "cell_type": "markdown",
      "source": [
        "# There's a no significant association between the type of smart home device purchased (Smart Thermostats vs. Smart Lights) and the customer satisfaction level."
      ],
      "metadata": {
        "id": "wuTJxVbneqqX"
      }
    },
    {
      "cell_type": "code",
      "source": [
        "# at dof=4, alpha=0.05\n",
        "#from chi square distribution table\n",
        "Critical_chi_stat=9.488"
      ],
      "metadata": {
        "id": "A4j7_alzel4J"
      },
      "execution_count": null,
      "outputs": []
    },
    {
      "cell_type": "markdown",
      "source": [
        "As critical value (9.488) > calculated value(5.638)\n",
        "# Accept null hypothesis\n",
        "There's a no significant association between the type of smart home device purchased (Smart Thermostats vs. Smart Lights) and the customer satisfaction level."
      ],
      "metadata": {
        "id": "8CQpwztDj4ZU"
      }
    },
    {
      "cell_type": "code",
      "source": [],
      "metadata": {
        "id": "XU9SEPwNj2mW"
      },
      "execution_count": null,
      "outputs": []
    }
  ]
}