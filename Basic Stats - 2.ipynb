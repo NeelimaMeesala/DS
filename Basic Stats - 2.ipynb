{
  "nbformat": 4,
  "nbformat_minor": 0,
  "metadata": {
    "colab": {
      "provenance": []
    },
    "kernelspec": {
      "name": "python3",
      "display_name": "Python 3"
    },
    "language_info": {
      "name": "python"
    }
  },
  "cells": [
    {
      "cell_type": "code",
      "execution_count": 1,
      "metadata": {
        "id": "shDW5PMg4IGW"
      },
      "outputs": [],
      "source": [
        "import numpy as np\n",
        "import pandas as pd"
      ]
    },
    {
      "cell_type": "code",
      "source": [
        "list=[1.13, 1.55, 1.43, 0.92, 1.25, 1.36, 1.32, 0.85, 1.07, 1.48, 1.20, 1.33, 1.18, 1.22, 1.29]"
      ],
      "metadata": {
        "id": "8GW99sG74R0Y"
      },
      "execution_count": 2,
      "outputs": []
    },
    {
      "cell_type": "code",
      "source": [
        "arr=np.array(list)"
      ],
      "metadata": {
        "id": "ubol25NI4lMU"
      },
      "execution_count": 3,
      "outputs": []
    },
    {
      "cell_type": "code",
      "source": [
        "length=len(arr)\n",
        "length"
      ],
      "metadata": {
        "colab": {
          "base_uri": "https://localhost:8080/"
        },
        "id": "qepDnsXR4pUs",
        "outputId": "dfa6afdb-9667-4cc1-fc7d-d8d87e37ff14"
      },
      "execution_count": 4,
      "outputs": [
        {
          "output_type": "execute_result",
          "data": {
            "text/plain": [
              "15"
            ]
          },
          "metadata": {},
          "execution_count": 4
        }
      ]
    },
    {
      "cell_type": "code",
      "source": [
        "mean=round(np.mean(arr),3)\n",
        "mean"
      ],
      "metadata": {
        "colab": {
          "base_uri": "https://localhost:8080/"
        },
        "id": "nr9ZJZ_q4uR4",
        "outputId": "19c61600-d5f7-4563-fb39-66f1348b2f4a"
      },
      "execution_count": 5,
      "outputs": [
        {
          "output_type": "execute_result",
          "data": {
            "text/plain": [
              "1.239"
            ]
          },
          "metadata": {},
          "execution_count": 5
        }
      ]
    },
    {
      "cell_type": "code",
      "source": [
        "#By default, np.std calculates the population standard deviation.\n",
        "#To calculate the sample standard deviation, you need to set the ddof (Delta Degrees of Freedom) parameter to 1: np.std(data, ddof=1).\n",
        "std_dev=round(np.std(arr,ddof=1),3)\n",
        "std_dev"
      ],
      "metadata": {
        "colab": {
          "base_uri": "https://localhost:8080/"
        },
        "id": "ajVAsbgu4zrR",
        "outputId": "9db34da3-d582-42ad-9103-b49489494379"
      },
      "execution_count": 6,
      "outputs": [
        {
          "output_type": "execute_result",
          "data": {
            "text/plain": [
              "0.193"
            ]
          },
          "metadata": {},
          "execution_count": 6
        }
      ]
    },
    {
      "cell_type": "markdown",
      "source": [
        "# Build 99% Confidence Interval Using Sample Standard Deviation\n",
        "Assuming the sample is representative of the population, construct a 99% confidence interval for the mean number of characters printed before the print-head fails using the sample standard deviation."
      ],
      "metadata": {
        "id": "YdQMVy0Q5DPc"
      }
    },
    {
      "cell_type": "code",
      "source": [
        "from scipy.stats import t"
      ],
      "metadata": {
        "id": "fLt6nF_S6DZE"
      },
      "execution_count": 7,
      "outputs": []
    },
    {
      "cell_type": "code",
      "source": [
        "confidence_level=0.99\n",
        "alpha=1-confidence_level"
      ],
      "metadata": {
        "id": "ZOettsTf4-_6"
      },
      "execution_count": 8,
      "outputs": []
    },
    {
      "cell_type": "code",
      "source": [
        "t_score=t.ppf(1-alpha/2,df=length-1)\n",
        "t_score"
      ],
      "metadata": {
        "colab": {
          "base_uri": "https://localhost:8080/"
        },
        "id": "9YKG0gLf6JpD",
        "outputId": "9449e164-e977-416c-a110-bda39b9fe3b5"
      },
      "execution_count": 9,
      "outputs": [
        {
          "output_type": "execute_result",
          "data": {
            "text/plain": [
              "2.976842734370834"
            ]
          },
          "metadata": {},
          "execution_count": 9
        }
      ]
    },
    {
      "cell_type": "code",
      "source": [
        "margin_of_error=t_score*std_dev/np.sqrt(length)\n",
        "margin_of_error"
      ],
      "metadata": {
        "colab": {
          "base_uri": "https://localhost:8080/"
        },
        "id": "S-x9HlrE6a65",
        "outputId": "3252cfef-0175-41b7-b26a-0757f254d8c3"
      },
      "execution_count": 10,
      "outputs": [
        {
          "output_type": "execute_result",
          "data": {
            "text/plain": [
              "0.14834317537052535"
            ]
          },
          "metadata": {},
          "execution_count": 10
        }
      ]
    },
    {
      "cell_type": "code",
      "source": [
        "CI=(mean-margin_of_error,mean+margin_of_error)\n",
        "CI"
      ],
      "metadata": {
        "colab": {
          "base_uri": "https://localhost:8080/"
        },
        "id": "GUhn3P0s6tHv",
        "outputId": "fb05f854-f5f0-4881-de71-a30f0486be23"
      },
      "execution_count": 11,
      "outputs": [
        {
          "output_type": "execute_result",
          "data": {
            "text/plain": [
              "(1.0906568246294748, 1.3873431753705254)"
            ]
          },
          "metadata": {},
          "execution_count": 11
        }
      ]
    },
    {
      "cell_type": "markdown",
      "source": [
        "# Build 99% Confidence Interval Using Known Population Standard Deviation\n",
        "If it were known that the population standard deviation is 0.2 million characters, construct a 99% confidence interval for the mean number of characters printed before failure.\n"
      ],
      "metadata": {
        "id": "8MJXE_HT7b8Y"
      }
    },
    {
      "cell_type": "code",
      "source": [
        "std_population=0.2\n",
        "t2_score=t.ppf(1-alpha/2,df=length-1)\n",
        "t2_score"
      ],
      "metadata": {
        "colab": {
          "base_uri": "https://localhost:8080/"
        },
        "id": "3s-vz10U6_Qk",
        "outputId": "fd98c63f-9e1b-474e-c00a-d62cee806e29"
      },
      "execution_count": 12,
      "outputs": [
        {
          "output_type": "execute_result",
          "data": {
            "text/plain": [
              "2.976842734370834"
            ]
          },
          "metadata": {},
          "execution_count": 12
        }
      ]
    },
    {
      "cell_type": "code",
      "source": [
        "margin_of_error=t2_score*std_population/np.sqrt(length)\n",
        "margin_of_error"
      ],
      "metadata": {
        "colab": {
          "base_uri": "https://localhost:8080/"
        },
        "id": "bwsWtFyf8Cy3",
        "outputId": "af621152-2208-4255-8abf-5565ef79e741"
      },
      "execution_count": 13,
      "outputs": [
        {
          "output_type": "execute_result",
          "data": {
            "text/plain": [
              "0.15372349779329053"
            ]
          },
          "metadata": {},
          "execution_count": 13
        }
      ]
    },
    {
      "cell_type": "code",
      "source": [
        "CI=(mean-margin_of_error,mean+margin_of_error)\n",
        "CI"
      ],
      "metadata": {
        "colab": {
          "base_uri": "https://localhost:8080/"
        },
        "id": "k44SF43z8jpX",
        "outputId": "75af4931-1c80-43c5-caaf-7de8a8186e3a"
      },
      "execution_count": 14,
      "outputs": [
        {
          "output_type": "execute_result",
          "data": {
            "text/plain": [
              "(1.0852765022067095, 1.3927234977932907)"
            ]
          },
          "metadata": {},
          "execution_count": 14
        }
      ]
    }
  ]
}