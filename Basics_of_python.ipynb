{
  "cells": [
    {
      "cell_type": "markdown",
      "metadata": {
        "id": "NQGVq_qVdS00"
      },
      "source": [
        "# 1. PRIME NUMBERS"
      ]
    },
    {
      "cell_type": "markdown",
      "metadata": {
        "id": "bpXGwZPddS1I"
      },
      "source": [
        "Write a Python program that checks whether a given number is prime or not. A prime number is a natural number greater than 1 that has no positive divisors other than 1 and itself."
      ]
    },
    {
      "cell_type": "code",
      "execution_count": 1,
      "metadata": {
        "colab": {
          "base_uri": "https://localhost:8080/"
        },
        "id": "gWSTaclgdS1O",
        "outputId": "45ac5afb-2dce-4012-ffba-17a2e83eca54"
      },
      "outputs": [
        {
          "output_type": "stream",
          "name": "stdout",
          "text": [
            "71\n",
            "prime\n"
          ]
        }
      ],
      "source": [
        "import math\n",
        "a=int(input())\n",
        "c=0\n",
        "b=int(math.sqrt(a))\n",
        "for i in range(1,b+1):\n",
        "    if a%i==0:\n",
        "        c=c+1\n",
        "        if c>1:\n",
        "            break\n",
        "if c==1:\n",
        "    print('prime')\n",
        "else:\n",
        "    print('not prime')"
      ]
    },
    {
      "cell_type": "markdown",
      "metadata": {
        "id": "IZZyhCxSdS1q"
      },
      "source": [
        "# PRODUCT OF RANDOM NUMBERS"
      ]
    },
    {
      "cell_type": "markdown",
      "metadata": {
        "id": "JCwm4MI1dS1s"
      },
      "source": [
        "Develop a Python program that generates two random numbers and asks the user to enter the product of these numbers. The program should then check if the user's answer is correct and display an appropriate message."
      ]
    },
    {
      "cell_type": "code",
      "execution_count": 2,
      "metadata": {
        "colab": {
          "base_uri": "https://localhost:8080/"
        },
        "id": "3LxnqWw7dS1w",
        "outputId": "e11abaab-e1f6-4fa1-ef9a-91b1c72c3c73"
      },
      "outputs": [
        {
          "output_type": "stream",
          "name": "stdout",
          "text": [
            "enter the product of the two numbers: 2500\n",
            "wrong 99 88 8712\n"
          ]
        }
      ],
      "source": [
        "import random\n",
        "rand1=random.randint(1,100)\n",
        "rand2=random.randint(1,100)\n",
        "# print(rand1,rand2)\n",
        "# rand1*rand2\n",
        "answer=int(input('enter the product of the two numbers: '))\n",
        "if answer==rand1*rand2:\n",
        "    print('correct',rand1,rand2,rand1*rand2)\n",
        "else:\n",
        "    print('wrong',rand1,rand2,rand1*rand2)"
      ]
    },
    {
      "cell_type": "markdown",
      "metadata": {
        "id": "p9FFl0AbdS13"
      },
      "source": [
        "# SQUARES OF EVEN OR ODD NUMBERS"
      ]
    },
    {
      "cell_type": "markdown",
      "metadata": {
        "id": "r0OpTw1ZdS17"
      },
      "source": [
        "Create a Python script that prints the squares of all even or odd numbers within the range of 100 to 200. Choose either even or odd numbers and document your choice in the code."
      ]
    },
    {
      "cell_type": "code",
      "execution_count": 3,
      "metadata": {
        "colab": {
          "base_uri": "https://localhost:8080/"
        },
        "id": "LW1OZZR2dS1-",
        "outputId": "342821e0-92e3-4574-ae5a-b8d1e0f7b287"
      },
      "outputs": [
        {
          "output_type": "stream",
          "name": "stdout",
          "text": [
            "10000\n",
            "10404\n",
            "10816\n",
            "11236\n",
            "11664\n",
            "12100\n",
            "12544\n",
            "12996\n",
            "13456\n",
            "13924\n",
            "14400\n",
            "14884\n",
            "15376\n",
            "15876\n",
            "16384\n",
            "16900\n",
            "17424\n",
            "17956\n",
            "18496\n",
            "19044\n",
            "19600\n",
            "20164\n",
            "20736\n",
            "21316\n",
            "21904\n",
            "22500\n",
            "23104\n",
            "23716\n",
            "24336\n",
            "24964\n",
            "25600\n",
            "26244\n",
            "26896\n",
            "27556\n",
            "28224\n",
            "28900\n",
            "29584\n",
            "30276\n",
            "30976\n",
            "31684\n",
            "32400\n",
            "33124\n",
            "33856\n",
            "34596\n",
            "35344\n",
            "36100\n",
            "36864\n",
            "37636\n",
            "38416\n",
            "39204\n",
            "40000\n"
          ]
        }
      ],
      "source": [
        "def squares_of_even():\n",
        "    for i in range(100,201):\n",
        "        if i%2==0:\n",
        "            print(i**2)\n",
        "squares_of_even()\n"
      ]
    },
    {
      "cell_type": "code",
      "source": [
        "#using list comprehension\n",
        "sq=[x**2 for x in range(100,201) if x%2==0]\n",
        "print(sq)"
      ],
      "metadata": {
        "colab": {
          "base_uri": "https://localhost:8080/"
        },
        "id": "8cmTtULheoLe",
        "outputId": "053e59db-9725-4d59-b8da-296c8a47059c"
      },
      "execution_count": 4,
      "outputs": [
        {
          "output_type": "stream",
          "name": "stdout",
          "text": [
            "[10000, 10404, 10816, 11236, 11664, 12100, 12544, 12996, 13456, 13924, 14400, 14884, 15376, 15876, 16384, 16900, 17424, 17956, 18496, 19044, 19600, 20164, 20736, 21316, 21904, 22500, 23104, 23716, 24336, 24964, 25600, 26244, 26896, 27556, 28224, 28900, 29584, 30276, 30976, 31684, 32400, 33124, 33856, 34596, 35344, 36100, 36864, 37636, 38416, 39204, 40000]\n"
          ]
        }
      ]
    },
    {
      "cell_type": "markdown",
      "metadata": {
        "id": "y7ZEbVJ-dS2D"
      },
      "source": [
        "# WORD COUNTER"
      ]
    },
    {
      "cell_type": "markdown",
      "metadata": {
        "id": "7ZN8FeKMdS2F"
      },
      "source": [
        "write a program to count the number of words in a given text. <br>\n",
        "example:<br>\n",
        "input_text = \"This is a sample text. This text will be used to demonstrate the word counter.\" <br>\n",
        "<u>Expected output:</u><br>\n",
        "'This': 2 <br>\n",
        "'is': 1<br>\n",
        "'a': 1<br>\n",
        "'sample': 1<br>\n",
        "'text.': 1\n"
      ]
    },
    {
      "cell_type": "code",
      "execution_count": 5,
      "metadata": {
        "colab": {
          "base_uri": "https://localhost:8080/"
        },
        "id": "8hg4SH5ZdS2G",
        "outputId": "520b6cd0-3829-4736-bf7d-2c55eae2aacf"
      },
      "outputs": [
        {
          "output_type": "stream",
          "name": "stdout",
          "text": [
            "enter the text: This is a sample text. This text will be used to demonstrate the word counter.\n",
            "'this':2\n",
            "'is':1\n",
            "'a':1\n",
            "'sample':1\n",
            "'text':2\n",
            "'will':1\n",
            "'be':1\n",
            "'used':1\n",
            "'to':1\n",
            "'demonstrate':1\n",
            "'the':1\n",
            "'word':1\n",
            "'counter':1\n"
          ]
        }
      ],
      "source": [
        "import re\n",
        "text=input('enter the text: ')\n",
        "# words=text.split()  #this includes special characters\n",
        "words = re.findall(r'\\b\\w+\\b', text.lower())  #using regex and removing special characters, lowering the text\n",
        "\n",
        "freq={} #empty dictionary to store words and their respective count\n",
        "\n",
        "\n",
        "for word in words:\n",
        "    if word in freq:\n",
        "        freq[word]+=1\n",
        "    else:\n",
        "        freq[word]=1\n",
        "\n",
        "\n",
        "for word,count in freq.items():\n",
        "    print(f\"'{word}':{count}\")\n",
        "#   print(\"'\",word,\"'\",':',count)"
      ]
    },
    {
      "cell_type": "markdown",
      "metadata": {
        "id": "wQeSrJtMdS2K"
      },
      "source": [
        "# CHECK FOR PALINDROME"
      ]
    },
    {
      "cell_type": "markdown",
      "metadata": {
        "id": "9gTsa1iwdS2L"
      },
      "source": [
        "Write a Python function called is_palindrome that takes a string as input and returns True if the string is a palindrome, and False otherwise. A palindrome is a word, phrase, number, or other sequence of characters that reads the same forward and backward, ignoring spaces, punctuation, and capitalization.<br>\n",
        "Example:<br>\n",
        "Input: \"racecar\"<br>\n",
        "Expected Output: True\n"
      ]
    },
    {
      "cell_type": "code",
      "execution_count": 9,
      "metadata": {
        "colab": {
          "base_uri": "https://localhost:8080/"
        },
        "id": "BG-q4OYTdS2N",
        "outputId": "41809481-2b28-4794-f4b2-c27c51f101a1"
      },
      "outputs": [
        {
          "output_type": "stream",
          "name": "stdout",
          "text": [
            "Racecar\n",
            "True\n"
          ]
        }
      ],
      "source": [
        "def is_palindrome(word):\n",
        "    word=word.lower()\n",
        "    return word==word[::-1]\n",
        "\n",
        "word=input()\n",
        "print(is_palindrome(word))"
      ]
    }
  ],
  "metadata": {
    "kernelspec": {
      "display_name": "Python 3",
      "language": "python",
      "name": "python3"
    },
    "language_info": {
      "codemirror_mode": {
        "name": "ipython",
        "version": 3
      },
      "file_extension": ".py",
      "mimetype": "text/x-python",
      "name": "python",
      "nbconvert_exporter": "python",
      "pygments_lexer": "ipython3",
      "version": "3.8.5"
    },
    "colab": {
      "provenance": []
    }
  },
  "nbformat": 4,
  "nbformat_minor": 0
}